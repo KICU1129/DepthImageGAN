{
 "cells": [
  {
   "cell_type": "code",
   "execution_count": 40,
   "source": [
    "import cv2\r\n",
    "import pandas as pd \r\n",
    "import numpy as np\r\n",
    "import matplotlib.pyplot as plt\r\n",
    "from database  import ImageDataset\r\n",
    "import torch\r\n",
    "import random\r\n",
    "import pandas as pd \r\n",
    "import torchvision.transforms as transforms\r\n",
    "from utils import *\r\n",
    "\r\n"
   ],
   "outputs": [],
   "metadata": {}
  },
  {
   "cell_type": "code",
   "execution_count": 36,
   "source": [
    "class TestOpts():\r\n",
    "    def __init__(self,seed=1234):\r\n",
    "        self.fix_seed(seed)\r\n",
    "        self.experience_ver=\"cyclegan_unpaired_ver3.1.0\"\r\n",
    "        # self.experience_ver=\"cyclegan_unpaired_ver1.0.0\"\r\n",
    "        # self.experience_ver=\"cyclegan_paired_ver1.0.0\"\r\n",
    "        self.version=\"0.0.0\"\r\n",
    "        self.start_epoch = 0\r\n",
    "        self.n_epochs = 1\r\n",
    "        self.batch_size = 1\r\n",
    "        self.dataroot = r\"E:\\KISUKE\\SUNRGBD\\SUNRGBD\\kv1\\b3dodata/\"\r\n",
    "        self.lr = 0.0002\r\n",
    "        self.decay_epoch = 200\r\n",
    "        self.size = 256\r\n",
    "        self.depth_name=\"depth\"\r\n",
    "        self.domainA_nc = 3\r\n",
    "        self.domainB_nc = 1\r\n",
    "        self.cpu = False\r\n",
    "        self.n_cpu = 0\r\n",
    "        self.device_name = \"cuda:0\" #if torch.cuda.is_available() else \"cpu\"\r\n",
    "        self.device =  torch.device(self.device_name) \r\n",
    "        self.load_weight = True\r\n",
    "\r\n",
    "    def fix_seed(self,seed):\r\n",
    "        # Numpy\r\n",
    "        np.random.seed(seed)\r\n",
    "        random.seed(seed)\r\n",
    "        # Pytorch\r\n",
    "        torch.manual_seed(seed)\r\n",
    "        torch.cuda.manual_seed_all(seed)\r\n",
    "        torch.backends.cudnn.deterministic = True\r\n",
    "opt=TestOpts()"
   ],
   "outputs": [],
   "metadata": {}
  },
  {
   "cell_type": "code",
   "execution_count": 37,
   "source": [
    "transforms_ = [ transforms.Lambda(normalize),]\r\n",
    "dataset=ImageDataset(root=opt.dataroot, transforms_=transforms_,depth_name=opt.depth_name,depth_gray=True, unaligned=False,limit=None)\r\n",
    "#Dataset for sampling \r\n",
    "sample_images=[dataset[i] for i in range(100) ]"
   ],
   "outputs": [],
   "metadata": {}
  },
  {
   "cell_type": "code",
   "execution_count": 47,
   "source": [
    "plt.hist(np.reshape(np.array(sample_images[14][\"A\"])[:,:,0],-1), alpha=0.8, histtype='stepfilled',label=\"R\",bins=100)\r\n",
    "plt.hist(np.reshape(np.array(sample_images[14][\"A\"])[:,:,1],-1), alpha=0.8, histtype='stepfilled',label=\"G\",bins=100)\r\n",
    "plt.hist(np.reshape(np.array(sample_images[14][\"A\"])[:,:,2],-1), alpha=0.8, histtype='stepfilled',label=\"B\",bins=100)\r\n",
    "plt.hist(np.reshape(np.array(sample_images[14][\"B\"]),-1), alpha=0.8, histtype='stepfilled',label=\"D\",bins=100)\r\n",
    "plt.legend()\r\n",
    "plt.yscale(\"log\")"
   ],
   "outputs": [
    {
     "output_type": "display_data",
     "data": {
      "image/png": "[encoded data removed]",
      "text/plain": [
       "<Figure size 432x288 with 1 Axes>"
      ]
     },
     "metadata": {
      "needs_background": "light"
     }
    }
   ],
   "metadata": {}
  },
  {
   "cell_type": "code",
   "execution_count": 49,
   "source": [
    "df=pd.DataFrame()\r\n",
    "\r\n",
    "R=[np.reshape(np.array(s[\"A\"])[:,:,0],-1) for s in sample_images]\r\n",
    "G=[np.reshape(np.array(s[\"A\"])[:,:,1],-1) for s in sample_images]\r\n",
    "B=[np.reshape(np.array(s[\"A\"])[:,:,2],-1) for s in sample_images]\r\n",
    "D=[np.reshape(np.array(s[\"B\"]),-1) for s in sample_images]\r\n",
    "\r\n",
    "df[\"R\"]= np.mean(R,axis=0)\r\n",
    "df[\"G\"]=np.mean(G,axis=0)\r\n",
    "df[\"B\"]=np.mean(B,axis=0)\r\n",
    "df[\"D\"]=np.mean(D,axis=0)\r\n",
    "print(np.shape(df.R))\r\n",
    "    "
   ],
   "outputs": [
    {
     "output_type": "stream",
     "name": "stdout",
     "text": [
      "(239547,)\n"
     ]
    }
   ],
   "metadata": {}
  },
  {
   "cell_type": "code",
   "execution_count": 50,
   "source": [
    "plt.hist(df.R, alpha=0.8, histtype='stepfilled',label=\"R\",bins=100)\r\n",
    "plt.hist(df.G, alpha=0.8, histtype='stepfilled',label=\"G\",bins=100)\r\n",
    "plt.hist(df.B, alpha=0.8, histtype='stepfilled',label=\"B\",bins=100)\r\n",
    "plt.hist(df.D, alpha=0.8, histtype='stepfilled',label=\"D\",bins=100)\r\n",
    "plt.legend()\r\n",
    "plt.yscale(\"log\")"
   ],
   "outputs": [
    {
     "output_type": "display_data",
     "data": {
      "image/png": "[encoded data removed]",
      "text/plain": [
       "<Figure size 432x288 with 1 Axes>"
      ]
     },
     "metadata": {
      "needs_background": "light"
     }
    }
   ],
   "metadata": {}
  },
  {
   "cell_type": "code",
   "execution_count": null,
   "source": [],
   "outputs": [],
   "metadata": {}
  }
 ],
 "metadata": {
  "orig_nbformat": 4,
  "language_info": {
   "name": "python",
   "version": "3.7.0",
   "mimetype": "text/x-python",
   "codemirror_mode": {
    "name": "ipython",
    "version": 3
   },
   "pygments_lexer": "ipython3",
   "nbconvert_exporter": "python",
   "file_extension": ".py"
  },
  "kernelspec": {
   "name": "python3",
   "display_name": "Python 3.7.0 64-bit ('depth_gan': conda)"
  },
  "interpreter": {
   "hash": "d4f7cd97f477b20dc2945047bc31d70715a88760c5f38df08b9bdaf5ed164a5a"
  }
 },
 "nbformat": 4,
 "nbformat_minor": 2
}